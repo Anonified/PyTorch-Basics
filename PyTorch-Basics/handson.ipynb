{
 "cells": [
  {
   "cell_type": "code",
   "execution_count": 9,
   "metadata": {},
   "outputs": [
    {
     "name": "stdout",
     "output_type": "stream",
     "text": [
      "tensor([4., 3.], dtype=torch.float16) torch.float16\n"
     ]
    }
   ],
   "source": [
    "import torch\n",
    "a=torch.tensor([4,3], dtype=torch.float16)\n",
    "print(a,a.dtype)"
   ]
  },
  {
   "cell_type": "code",
   "execution_count": 23,
   "metadata": {},
   "outputs": [
    {
     "name": "stdout",
     "output_type": "stream",
     "text": [
      "tensor([[2.5945, 2.2458, 1.9470, 2.1886],\n",
      "        [2.5945, 2.2458, 1.9470, 2.1886],\n",
      "        [2.5945, 2.2458, 1.9470, 2.1886],\n",
      "        [2.5945, 2.2458, 1.9470, 2.1886],\n",
      "        [2.5945, 2.2458, 1.9470, 2.1886]])\n",
      "tensor([[1., 1., 1., 1.],\n",
      "        [1., 1., 1., 1.],\n",
      "        [1., 1., 1., 1.],\n",
      "        [1., 1., 1., 1.],\n",
      "        [1., 1., 1., 1.]]) torch.float32\n"
     ]
    }
   ],
   "source": [
    "b=torch.ones(5,4)\n",
    "c=torch.rand(4,4)\n",
    "print(b@c)\n",
    "print(b,b.dtype)"
   ]
  },
  {
   "cell_type": "code",
   "execution_count": 26,
   "metadata": {},
   "outputs": [
    {
     "name": "stdout",
     "output_type": "stream",
     "text": [
      "tensor([1.3000, 4.0000, 2.0000])\n"
     ]
    }
   ],
   "source": [
    "print(torch.Tensor([1.3,4,2]))"
   ]
  },
  {
   "cell_type": "markdown",
   "metadata": {},
   "source": [
    "In CPU tensors share same memory location so if we change one variable associated with other, the other one also changes.\n",
    "We can use .clone() to avoid having same memory location"
   ]
  },
  {
   "cell_type": "code",
   "execution_count": 37,
   "metadata": {},
   "outputs": [
    {
     "name": "stdout",
     "output_type": "stream",
     "text": [
      "tensor([ 4., 21.], dtype=torch.float16)\n",
      "tensor([ 4., 21.], dtype=torch.float16)\n",
      "tensor([ 4., 23.], dtype=torch.float16)\n"
     ]
    }
   ],
   "source": [
    "b=a.view(-1)\n",
    "c=a.clone()\n",
    "b[1]=21\n",
    "c[1]=23\n",
    "print(a)\n",
    "print(b)\n",
    "print(c)\n"
   ]
  },
  {
   "cell_type": "markdown",
   "metadata": {},
   "source": [
    "`Gradients`"
   ]
  },
  {
   "cell_type": "code",
   "execution_count": 55,
   "metadata": {},
   "outputs": [
    {
     "name": "stdout",
     "output_type": "stream",
     "text": [
      "tensor([ 0.8969,  0.0696, -0.5814], requires_grad=True)\n",
      "tensor([ 7.2150e-01,  3.3753e-04, -1.9653e-01], grad_fn=<PowBackward0>)\n",
      "tensor([ 1.2421e+00,  3.3765e-04, -1.5791e-01], grad_fn=<AddBackward0>)\n"
     ]
    }
   ],
   "source": [
    "x=torch.randn(3,requires_grad=True)\n",
    "y=x**3\n",
    "print(x)\n",
    "print(y)\n",
    "z=y**2+y\n",
    "print(z)\n",
    "\n"
   ]
  },
  {
   "cell_type": "code",
   "execution_count": 57,
   "metadata": {},
   "outputs": [
    {
     "name": "stdout",
     "output_type": "stream",
     "text": [
      "tensor(0.3615, grad_fn=<MeanBackward0>)\n",
      "tensor([1.9652, 0.0049, 0.2052])\n"
     ]
    }
   ],
   "source": [
    "z=z.mean()\n",
    "print(z)\n",
    "z.backward()\n",
    "print(x.grad)"
   ]
  },
  {
   "cell_type": "markdown",
   "metadata": {},
   "source": [
    "We Need to update the grad to 0 after every epoch we use optimizer.zero_grad()"
   ]
  },
  {
   "cell_type": "code",
   "execution_count": 59,
   "metadata": {},
   "outputs": [
    {
     "name": "stdout",
     "output_type": "stream",
     "text": [
      "True\n",
      "False\n",
      "True\n"
     ]
    }
   ],
   "source": [
    "a=torch.randn(3,requires_grad=True)\n",
    "b=a.detach()\n",
    "print(a.requires_grad)\n",
    "print(b.requires_grad)\n",
    "b.requires_grad_(True)\n",
    "print(b.requires_grad)"
   ]
  },
  {
   "cell_type": "code",
   "execution_count": 61,
   "metadata": {},
   "outputs": [
    {
     "name": "stdout",
     "output_type": "stream",
     "text": [
      "True\n",
      "False\n"
     ]
    }
   ],
   "source": [
    "a=torch.randn(3,4 ,requires_grad=True)\n",
    "print(a.requires_grad)\n",
    "with torch.no_grad():\n",
    "    b=a+3\n",
    "    print(b.requires_grad)\n",
    "\n"
   ]
  },
  {
   "cell_type": "code",
   "execution_count": 80,
   "metadata": {},
   "outputs": [
    {
     "name": "stdout",
     "output_type": "stream",
     "text": [
      "tensor([[-0.5387, -0.5387],\n",
      "        [ 2.3877,  2.3877]])\n",
      "tensor([[-0.5387, -0.5387],\n",
      "        [ 2.3877,  2.3877]])\n"
     ]
    }
   ],
   "source": [
    "v=torch.randn(2,2)\n",
    "k=torch.ones(2,2)\n",
    "print(v@k)\n",
    "print(torch.mm(v,k))"
   ]
  }
 ],
 "metadata": {
  "kernelspec": {
   "display_name": "venv",
   "language": "python",
   "name": "python3"
  },
  "language_info": {
   "codemirror_mode": {
    "name": "ipython",
    "version": 3
   },
   "file_extension": ".py",
   "mimetype": "text/x-python",
   "name": "python",
   "nbconvert_exporter": "python",
   "pygments_lexer": "ipython3",
   "version": "3.13.4"
  }
 },
 "nbformat": 4,
 "nbformat_minor": 2
}
